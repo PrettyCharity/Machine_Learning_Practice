{
 "cells": [
  {
   "cell_type": "markdown",
   "id": "84040079",
   "metadata": {},
   "source": [
    "# Preparing the data"
   ]
  },
  {
   "cell_type": "code",
   "execution_count": 1,
   "id": "6e86104c",
   "metadata": {},
   "outputs": [],
   "source": [
    "# Importing the libraries\n",
    "import numpy as np\n",
    "import pandas as pd\n",
    "pd.set_option(\"display.precision\", 4)\n",
    "import matplotlib.pyplot as plt\n",
    "from matplotlib.colors import ListedColormap\n",
    "import seaborn as sns\n",
    "sns.set_theme(style = 'white')\n",
    "\n",
    "# Classification models and metrics\n",
    "from sklearn.metrics import f1_score, accuracy_score\n",
    "from sklearn.linear_model import LogisticRegression\n",
    "from sklearn.neighbors import KNeighborsClassifier\n",
    "from sklearn.svm import SVC\n",
    "from sklearn.naive_bayes import GaussianNB\n",
    "from sklearn.tree import DecisionTreeClassifier\n",
    "from sklearn.ensemble import RandomForestClassifier\n",
    "\n",
    "# Loading the dataset\n",
    "df = pd.read_csv('Data.csv')\n",
    "X = df.iloc[:, :-1].values\n",
    "y = df.iloc[:, -1].values\n",
    "\n",
    "# Split the dataset into the Training set and Test set\n",
    "from sklearn.model_selection import train_test_split\n",
    "X_train, X_test, y_train, y_test = train_test_split(X, y, test_size = 0.25,\n",
    "                                                    random_state = 42)\n",
    "\n",
    "# Feature Scaling\n",
    "from sklearn.preprocessing import StandardScaler\n",
    "sc = StandardScaler()\n",
    "X_train = sc.fit_transform(X_train)\n",
    "X_test = sc.transform(X_test)"
   ]
  },
  {
   "cell_type": "markdown",
   "id": "9a977596",
   "metadata": {},
   "source": [
    "# Applying Linear Discriminant Analysis"
   ]
  },
  {
   "cell_type": "code",
   "execution_count": 2,
   "id": "d9a5596f",
   "metadata": {},
   "outputs": [],
   "source": [
    "from sklearn.discriminant_analysis import LinearDiscriminantAnalysis as LDA\n",
    "lda = LDA(n_components = 2)\n",
    "X_train = lda.fit_transform(X_train, y_train) # Dependent variable is necessary for supervised LDA\n",
    "X_test = lda.transform(X_test)"
   ]
  },
  {
   "cell_type": "markdown",
   "id": "168a5f71",
   "metadata": {},
   "source": [
    "# Training the Classifiers on LDA values"
   ]
  },
  {
   "cell_type": "code",
   "execution_count": 3,
   "id": "e759660c",
   "metadata": {},
   "outputs": [],
   "source": [
    "def list_classifiers():\n",
    "    classifiers = {\n",
    "        'Logistic Regression' : LogisticRegression(random_state = 42),\n",
    "        'K-Nearest Neighbors' : KNeighborsClassifier(n_neighbors = 3, p = 2, \n",
    "                                                     metric = 'minkowski'),\n",
    "        'Support Vector Machine' : SVC(kernel = 'linear', random_state = 42),\n",
    "        'Kernel SVM' : SVC(kernel = 'rbf', random_state = 42),\n",
    "        'Naive Bayes' : GaussianNB(),\n",
    "        'Decision Tree' : DecisionTreeClassifier(criterion = 'entropy', \n",
    "                                                 random_state = 42),\n",
    "        'Random Forest' : RandomForestClassifier(n_estimators=100, \n",
    "                                                 criterion='entropy',\n",
    "                                                 random_state = 42),\n",
    "    }\n",
    "    return classifiers\n",
    "\n",
    "# Get the classifiers\n",
    "classifiers = list_classifiers()\n",
    "score = {name : [] for name in list(classifiers.keys())} \n",
    "for name, classifier in classifiers.items():\n",
    "  classifier.fit(X_train, y_train)\n",
    "  y_pred = classifier.predict(X_test)\n",
    "  score[name].append(f1_score(y_test, y_pred, average = 'weighted'))\n",
    "  score[name].append(accuracy_score(y_test, y_pred))"
   ]
  },
  {
   "cell_type": "code",
   "execution_count": 4,
   "id": "598e653c",
   "metadata": {},
   "outputs": [
    {
     "data": {
      "text/html": [
       "<style  type=\"text/css\" >\n",
       "</style><table id=\"T_ae1aa_\" ><thead>    <tr>        <th class=\"blank level0\" ></th>        <th class=\"col_heading level0 col0\" >f1 score</th>        <th class=\"col_heading level0 col1\" >Accuracy</th>    </tr></thead><tbody>\n",
       "                <tr>\n",
       "                        <th id=\"T_ae1aa_level0_row0\" class=\"row_heading level0 row0\" >Logistic Regression</th>\n",
       "                        <td id=\"T_ae1aa_row0_col0\" class=\"data row0 col0\" >0.9778</td>\n",
       "                        <td id=\"T_ae1aa_row0_col1\" class=\"data row0 col1\" >0.9778</td>\n",
       "            </tr>\n",
       "            <tr>\n",
       "                        <th id=\"T_ae1aa_level0_row1\" class=\"row_heading level0 row1\" >K-Nearest Neighbors</th>\n",
       "                        <td id=\"T_ae1aa_row1_col0\" class=\"data row1 col0\" >0.9778</td>\n",
       "                        <td id=\"T_ae1aa_row1_col1\" class=\"data row1 col1\" >0.9778</td>\n",
       "            </tr>\n",
       "            <tr>\n",
       "                        <th id=\"T_ae1aa_level0_row2\" class=\"row_heading level0 row2\" >Support Vector Machine</th>\n",
       "                        <td id=\"T_ae1aa_row2_col0\" class=\"data row2 col0\" >0.9778</td>\n",
       "                        <td id=\"T_ae1aa_row2_col1\" class=\"data row2 col1\" >0.9778</td>\n",
       "            </tr>\n",
       "            <tr>\n",
       "                        <th id=\"T_ae1aa_level0_row3\" class=\"row_heading level0 row3\" >Kernel SVM</th>\n",
       "                        <td id=\"T_ae1aa_row3_col0\" class=\"data row3 col0\" >0.9778</td>\n",
       "                        <td id=\"T_ae1aa_row3_col1\" class=\"data row3 col1\" >0.9778</td>\n",
       "            </tr>\n",
       "            <tr>\n",
       "                        <th id=\"T_ae1aa_level0_row4\" class=\"row_heading level0 row4\" >Naive Bayes</th>\n",
       "                        <td id=\"T_ae1aa_row4_col0\" class=\"data row4 col0\" >1.0000</td>\n",
       "                        <td id=\"T_ae1aa_row4_col1\" class=\"data row4 col1\" >1.0000</td>\n",
       "            </tr>\n",
       "            <tr>\n",
       "                        <th id=\"T_ae1aa_level0_row5\" class=\"row_heading level0 row5\" >Decision Tree</th>\n",
       "                        <td id=\"T_ae1aa_row5_col0\" class=\"data row5 col0\" >0.9778</td>\n",
       "                        <td id=\"T_ae1aa_row5_col1\" class=\"data row5 col1\" >0.9778</td>\n",
       "            </tr>\n",
       "            <tr>\n",
       "                        <th id=\"T_ae1aa_level0_row6\" class=\"row_heading level0 row6\" >Random Forest</th>\n",
       "                        <td id=\"T_ae1aa_row6_col0\" class=\"data row6 col0\" >0.9778</td>\n",
       "                        <td id=\"T_ae1aa_row6_col1\" class=\"data row6 col1\" >0.9778</td>\n",
       "            </tr>\n",
       "    </tbody></table>"
      ],
      "text/plain": [
       "<pandas.io.formats.style.Styler at 0x2e5401b3a30>"
      ]
     },
     "execution_count": 4,
     "metadata": {},
     "output_type": "execute_result"
    }
   ],
   "source": [
    "result = pd.DataFrame(score.values(), columns = ['f1 score', 'Accuracy'], \n",
    "                      index = score.keys())\n",
    "result.style"
   ]
  },
  {
   "cell_type": "markdown",
   "id": "4da73822",
   "metadata": {},
   "source": [
    "# Visualizing the Results of Naive Bayes"
   ]
  },
  {
   "cell_type": "code",
   "execution_count": 5,
   "id": "6327d0b9",
   "metadata": {},
   "outputs": [],
   "source": [
    "def visualize(X, y, model, model_name, mode = 'Training'):\n",
    "    X_set, y_set = X, y\n",
    "    X1, X2 = np.meshgrid(np.arange(start = X_set[:, 0].min() - 1, stop = X_set[:, 0].max() + 1, step = 0.01),\n",
    "                         np.arange(start = X_set[:, 1].min() - 1, stop = X_set[:, 1].max() + 1, step = 0.01))\n",
    "    plt.contourf(X1, X2, model.predict(np.array([X1.ravel(), X2.ravel()]).T).reshape(X1.shape),\n",
    "                alpha = 0.75, cmap = ListedColormap(('red', 'green', 'blue')))\n",
    "    plt.xlim(X1.min(), X1.max())\n",
    "    plt.ylim(X2.min(), X2.max())\n",
    "    for i, j in enumerate(np.unique(y_set)):\n",
    "        plt.scatter(X_set[y_set == j, 0], X_set[y_set == j, 1],\n",
    "               color = ListedColormap(('red', 'green', 'blue'))(i), label = j)\n",
    "        \n",
    "    plt.title(model_name + ' (' + mode + ' set)', size = 16)\n",
    "    plt.xlabel('LD1', size = 12)\n",
    "    plt.ylabel('LD2', size = 12)\n",
    "    plt.legend()\n",
    "    plt.show()"
   ]
  },
  {
   "cell_type": "code",
   "execution_count": 6,
   "id": "ad9cc978",
   "metadata": {
    "scrolled": false
   },
   "outputs": [
    {
     "data": {
      "image/png": "[encoded data removed]",
      "text/plain": [
       "<Figure size 432x288 with 1 Axes>"
      ]
     },
     "metadata": {},
     "output_type": "display_data"
    }
   ],
   "source": [
    "# Train the Kernel SVM\n",
    "nb = GaussianNB()\n",
    "nb.fit(X_train, y_train)\n",
    "\n",
    "# Visualize the Training results\n",
    "visualize(X_train, y_train, nb, 'Naive Bayes', mode = 'Training')"
   ]
  },
  {
   "cell_type": "code",
   "execution_count": 7,
   "id": "c4221e6e",
   "metadata": {},
   "outputs": [
    {
     "data": {
      "image/png": "[encoded data removed]",
      "text/plain": [
       "<Figure size 432x288 with 1 Axes>"
      ]
     },
     "metadata": {},
     "output_type": "display_data"
    }
   ],
   "source": [
    "# Visualize the Test results\n",
    "visualize(X_test, y_test, nb, 'Naive Bayes', mode = 'Test')"
   ]
  }
 ],
 "metadata": {
  "kernelspec": {
   "display_name": "Python 3",
   "language": "python",
   "name": "python3"
  },
  "language_info": {
   "codemirror_mode": {
    "name": "ipython",
    "version": 3
   },
   "file_extension": ".py",
   "mimetype": "text/x-python",
   "name": "python",
   "nbconvert_exporter": "python",
   "pygments_lexer": "ipython3",
   "version": "3.9.12"
  }
 },
 "nbformat": 4,
 "nbformat_minor": 5
}
