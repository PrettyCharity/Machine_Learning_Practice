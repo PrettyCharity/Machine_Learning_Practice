{
 "cells": [
  {
   "cell_type": "markdown",
   "id": "bef031a8",
   "metadata": {},
   "source": [
    "## Importing the libraries"
   ]
  },
  {
   "cell_type": "code",
   "execution_count": 1,
   "id": "0f2cd67d",
   "metadata": {},
   "outputs": [],
   "source": [
    "import torch\n",
    "import torch.nn as nn\n",
    "import torch.optim as optim\n",
    "import torch.utils.data\n",
    "import torchvision.datasets as dset\n",
    "import torchvision.transforms as transforms\n",
    "import torchvision.utils as vutils\n",
    "\n",
    "if torch.cuda.is_available():\n",
    "    torch.set_default_tensor_type('torch.cuda.FloatTensor') # To use GPU on pytorch\n",
    "    device = 'cuda'\n",
    "else:\n",
    "    device = 'cpu'"
   ]
  },
  {
   "cell_type": "markdown",
   "id": "d2a7c6c2",
   "metadata": {},
   "source": [
    "## Preparation of data and weights"
   ]
  },
  {
   "cell_type": "code",
   "execution_count": 2,
   "id": "1c9c87d5",
   "metadata": {},
   "outputs": [],
   "source": [
    "# CelebA data: [https://drive.google.com/file/d/1gLviyTH-mXNXD2tq6DO0dnAa-zS0PMk8/view?usp=sharing]\n",
    "# Setting hyperparameters\n",
    "batch_size, image_size = 64, 64\n",
    "\n",
    "# Getting the data and preparing the DataLoader\n",
    "data_root = './data/processed_celeba_small'\n",
    "dataset = dset.ImageFolder(root = data_root, \n",
    "                              transform = transforms.Compose([\n",
    "                                  transforms.Resize(image_size),\n",
    "                                  transforms.CenterCrop(image_size),\n",
    "                                  transforms.ToTensor(),\n",
    "                                  transforms.Normalize((0.5, 0.5, 0.5), (0.5, 0.5, 0.5))\n",
    "                              ]))\n",
    "\n",
    "# shuffle = False for fixing \"RuntimeError: Expected a 'cuda' device type for generator but found 'cpu'\"\n",
    "data_loader = torch.utils.data.DataLoader(dataset, batch_size = batch_size, shuffle = False, num_workers = 2)\n",
    "\n",
    "def weights_init(m):\n",
    "    \"\"\"\n",
    "    Takes as input a neural network m \n",
    "    and initializes all its weights.\n",
    "    \"\"\"\n",
    "    classname = m.__class__.__name__\n",
    "    if classname.find('Conv') != -1:\n",
    "        m.weight.data.normal_(0.0, 0.02)\n",
    "    elif classname.find('BatchNorm') != -1:\n",
    "        m.weight.data.normal_(1.0, 0.02)\n",
    "        m.bias.data.fill_(0)"
   ]
  },
  {
   "cell_type": "markdown",
   "id": "b3490796",
   "metadata": {},
   "source": [
    "## The Generator"
   ]
  },
  {
   "cell_type": "code",
   "execution_count": 3,
   "id": "d775150e",
   "metadata": {},
   "outputs": [],
   "source": [
    "class G(nn.Module):\n",
    "    \n",
    "    def __init__(self):\n",
    "        super(G, self).__init__()\n",
    "        self.main = nn.Sequential(\n",
    "            nn.ConvTranspose2d(in_channels = 100, out_channels = 512, kernel_size = 4, stride = 1, padding = 0, bias = False),\n",
    "            nn.BatchNorm2d(num_features = 512),\n",
    "            nn.ReLU(inplace = True),\n",
    "            nn.ConvTranspose2d(in_channels = 512, out_channels = 256, kernel_size = 4, stride = 2, padding = 1, bias = False),\n",
    "            nn.BatchNorm2d(num_features = 256),\n",
    "            nn.ReLU(inplace = True),\n",
    "            nn.ConvTranspose2d(in_channels = 256, out_channels = 128, kernel_size = 4, stride = 2, padding = 1, bias = False),\n",
    "            nn.BatchNorm2d(num_features = 128),\n",
    "            nn.ReLU(inplace = True),\n",
    "            nn.ConvTranspose2d(in_channels = 128, out_channels = 64, kernel_size = 4, stride = 2, padding = 1, bias = False),\n",
    "            nn.BatchNorm2d(num_features = 64),\n",
    "            nn.ReLU(inplace = True),\n",
    "            nn.ConvTranspose2d(in_channels = 64, out_channels = 3, kernel_size = 4, stride = 2, padding = 1, bias = False),\n",
    "            nn.Tanh()\n",
    "            )\n",
    "    \n",
    "    def forward(self, input):\n",
    "        output = self.main(input)\n",
    "        return output"
   ]
  },
  {
   "cell_type": "code",
   "execution_count": 4,
   "id": "3210f011",
   "metadata": {},
   "outputs": [
    {
     "data": {
      "text/plain": [
       "G(\n",
       "  (main): Sequential(\n",
       "    (0): ConvTranspose2d(100, 512, kernel_size=(4, 4), stride=(1, 1), bias=False)\n",
       "    (1): BatchNorm2d(512, eps=1e-05, momentum=0.1, affine=True, track_running_stats=True)\n",
       "    (2): ReLU(inplace=True)\n",
       "    (3): ConvTranspose2d(512, 256, kernel_size=(4, 4), stride=(2, 2), padding=(1, 1), bias=False)\n",
       "    (4): BatchNorm2d(256, eps=1e-05, momentum=0.1, affine=True, track_running_stats=True)\n",
       "    (5): ReLU(inplace=True)\n",
       "    (6): ConvTranspose2d(256, 128, kernel_size=(4, 4), stride=(2, 2), padding=(1, 1), bias=False)\n",
       "    (7): BatchNorm2d(128, eps=1e-05, momentum=0.1, affine=True, track_running_stats=True)\n",
       "    (8): ReLU(inplace=True)\n",
       "    (9): ConvTranspose2d(128, 64, kernel_size=(4, 4), stride=(2, 2), padding=(1, 1), bias=False)\n",
       "    (10): BatchNorm2d(64, eps=1e-05, momentum=0.1, affine=True, track_running_stats=True)\n",
       "    (11): ReLU(inplace=True)\n",
       "    (12): ConvTranspose2d(64, 3, kernel_size=(4, 4), stride=(2, 2), padding=(1, 1), bias=False)\n",
       "    (13): Tanh()\n",
       "  )\n",
       ")"
      ]
     },
     "execution_count": 4,
     "metadata": {},
     "output_type": "execute_result"
    }
   ],
   "source": [
    "netG = G()\n",
    "netG.apply(weights_init)"
   ]
  },
  {
   "cell_type": "markdown",
   "id": "af6b76e4",
   "metadata": {},
   "source": [
    "## The Discriminator"
   ]
  },
  {
   "cell_type": "code",
   "execution_count": 5,
   "id": "efa38a56",
   "metadata": {},
   "outputs": [],
   "source": [
    "class D(nn.Module):\n",
    "    \n",
    "    def __init__(self):\n",
    "        super(D, self).__init__()\n",
    "        self.main = nn.Sequential(\n",
    "            nn.Conv2d(in_channels = 3, out_channels = 64, kernel_size = 4, stride = 2, padding = 1, bias = False),\n",
    "            nn.LeakyReLU(negative_slope = 0.2, inplace = True),\n",
    "            nn.Conv2d(in_channels = 64, out_channels = 128, kernel_size = 4, stride = 2, padding = 1, bias = False),\n",
    "            nn.BatchNorm2d(num_features = 128),\n",
    "            nn.LeakyReLU(negative_slope = 0.2, inplace = True),\n",
    "            nn.Conv2d(in_channels = 128, out_channels = 256, kernel_size = 4, stride = 2, padding = 1, bias = False),\n",
    "            nn.BatchNorm2d(num_features = 256),\n",
    "            nn.LeakyReLU(negative_slope = 0.2, inplace = True),\n",
    "            nn.Conv2d(in_channels = 256, out_channels = 512, kernel_size = 4, stride = 2, padding = 1, bias = False),\n",
    "            nn.BatchNorm2d(num_features = 512),\n",
    "            nn.LeakyReLU(negative_slope = 0.2, inplace = True),\n",
    "            nn.Conv2d(in_channels = 512, out_channels = 1, kernel_size = 4, stride = 1, padding = 0, bias = False),\n",
    "            nn.Sigmoid()\n",
    "        )\n",
    "    \n",
    "    def forward(self, input):\n",
    "        output = self.main(input)\n",
    "        return output.view(-1) # Flatten the output as the same dimension as batch_size"
   ]
  },
  {
   "cell_type": "code",
   "execution_count": 6,
   "id": "72c5dbcf",
   "metadata": {},
   "outputs": [
    {
     "data": {
      "text/plain": [
       "D(\n",
       "  (main): Sequential(\n",
       "    (0): Conv2d(3, 64, kernel_size=(4, 4), stride=(2, 2), padding=(1, 1), bias=False)\n",
       "    (1): LeakyReLU(negative_slope=0.2, inplace=True)\n",
       "    (2): Conv2d(64, 128, kernel_size=(4, 4), stride=(2, 2), padding=(1, 1), bias=False)\n",
       "    (3): BatchNorm2d(128, eps=1e-05, momentum=0.1, affine=True, track_running_stats=True)\n",
       "    (4): LeakyReLU(negative_slope=0.2, inplace=True)\n",
       "    (5): Conv2d(128, 256, kernel_size=(4, 4), stride=(2, 2), padding=(1, 1), bias=False)\n",
       "    (6): BatchNorm2d(256, eps=1e-05, momentum=0.1, affine=True, track_running_stats=True)\n",
       "    (7): LeakyReLU(negative_slope=0.2, inplace=True)\n",
       "    (8): Conv2d(256, 512, kernel_size=(4, 4), stride=(2, 2), padding=(1, 1), bias=False)\n",
       "    (9): BatchNorm2d(512, eps=1e-05, momentum=0.1, affine=True, track_running_stats=True)\n",
       "    (10): LeakyReLU(negative_slope=0.2, inplace=True)\n",
       "    (11): Conv2d(512, 1, kernel_size=(4, 4), stride=(1, 1), bias=False)\n",
       "    (12): Sigmoid()\n",
       "  )\n",
       ")"
      ]
     },
     "execution_count": 6,
     "metadata": {},
     "output_type": "execute_result"
    }
   ],
   "source": [
    "netD = D()\n",
    "netD.apply(weights_init)"
   ]
  },
  {
   "cell_type": "markdown",
   "id": "bca9fd99",
   "metadata": {},
   "source": [
    "## Training the DCGANs"
   ]
  },
  {
   "cell_type": "code",
   "execution_count": null,
   "id": "65e8fa86",
   "metadata": {
    "scrolled": true
   },
   "outputs": [],
   "source": [
    "epochs = 25\n",
    "criterion = nn.BCELoss()\n",
    "optimizer_D = optim.Adam(netD.parameters(), lr = 0.0002, betas = (0.5, 0.999))\n",
    "optimizer_G = optim.Adam(netG.parameters(), lr = 0.0002, betas = (0.5, 0.999))\n",
    "\n",
    "for epoch in range(epochs):\n",
    "    for i, data in enumerate(data_loader, 0):\n",
    "        # 1st Step: Updating the weights of the neural network of the discriminator\n",
    "        netD.zero_grad()\n",
    "        \n",
    "        # Training the discriminator with a real image of the dataset\n",
    "        real, _ = data\n",
    "        input = real.to(device = device)\n",
    "        target = torch.ones(input.size()[0])\n",
    "        output = netD(input)\n",
    "        D_error_real = criterion(output, target)\n",
    "        \n",
    "        # Training the discriminator with a fake image generated by the generator\n",
    "        noise = torch.randn(input.size()[0], 100, 1, 1)\n",
    "        fake = netG(noise)\n",
    "        target = torch.zeros(input.size()[0])\n",
    "        output = netD(fake.detach())\n",
    "        D_error_fake = criterion(output, target)\n",
    "        \n",
    "        # Backpropagating the total error\n",
    "        D_error = D_error_real + D_error_fake\n",
    "        D_error.backward()\n",
    "        optimizer_D.step()\n",
    "        \n",
    "        # 2nd Step: Updating the weights of the neural network of the generator\n",
    "        netG.zero_grad()\n",
    "        target = torch.ones(input.size()[0])\n",
    "        output = netD(fake)\n",
    "        G_error = criterion(output, target)\n",
    "        G_error.backward()\n",
    "        optimizer_G.step()\n",
    "        \n",
    "        # 3rd Step: Printing the losses and saving the real images and the generated images every 100 steps\n",
    "        print('[%d/%d][%d/%d] Loss_D: %.4f | Loss_G: %.4f' % (epoch, 25, i, len(data_loader), D_error.item(), G_error.item()))\n",
    "        if i % 100 == 0:\n",
    "            vutils.save_image(real, '%s/real_samples.png' % \"./results_face\", normalize = True)\n",
    "            fake = netG(noise)\n",
    "            vutils.save_image(fake.data, '%s/fake_samples_epoch_%03d.png' % (\"./results_face\", epoch), normalize = True)"
   ]
  }
 ],
 "metadata": {
  "kernelspec": {
   "display_name": "Python 3",
   "language": "python",
   "name": "python3"
  },
  "language_info": {
   "codemirror_mode": {
    "name": "ipython",
    "version": 3
   },
   "file_extension": ".py",
   "mimetype": "text/x-python",
   "name": "python",
   "nbconvert_exporter": "python",
   "pygments_lexer": "ipython3",
   "version": "3.9.12"
  }
 },
 "nbformat": 4,
 "nbformat_minor": 5
}
