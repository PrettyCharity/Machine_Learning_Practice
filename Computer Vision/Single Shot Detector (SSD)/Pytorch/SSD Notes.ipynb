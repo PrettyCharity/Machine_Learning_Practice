{
 "cells": [
  {
   "cell_type": "markdown",
   "id": "93d424fc",
   "metadata": {},
   "source": [
    "# Object Detection with SSD"
   ]
  },
  {
   "cell_type": "markdown",
   "id": "af8de06a",
   "metadata": {},
   "source": [
    "## Importing the libraries"
   ]
  },
  {
   "cell_type": "code",
   "execution_count": 1,
   "id": "80e7c7a5",
   "metadata": {},
   "outputs": [],
   "source": [
    "import torch\n",
    "import cv2\n",
    "import imageio\n",
    "# SSD model is taken from [https://github.com/amdegroot/ssd.pytorch] and adapted for torch 1.11.0\n",
    "from data import BaseTransform, VOC_CLASSES as labelmap\n",
    "from ssd import build_ssd"
   ]
  },
  {
   "cell_type": "markdown",
   "id": "a90bd883",
   "metadata": {},
   "source": [
    "## Detection Function"
   ]
  },
  {
   "cell_type": "code",
   "execution_count": 2,
   "id": "2a69d03c",
   "metadata": {},
   "outputs": [],
   "source": [
    "# Frame by frame detection\n",
    "def detect(frame, net, transform):\n",
    "    height, width = frame.shape[:2]\n",
    "    frame_t = transform(frame)[0]\n",
    "    x = torch.from_numpy(frame_t).permute(2, 0, 1) #RBG to GRB with .permute()\n",
    "    x = x.unsqueeze(0) # Take the batch with it's gradients\n",
    "    with torch.no_grad():\n",
    "        y = net(x) # Feed the frame to Neural Network\n",
    "    detections = y.data # [batch, number of classes, number of occurence, (score, x0, y0, x1, y1)]\n",
    "    scale = torch.Tensor([width, height, width, height])\n",
    "    for i in range(detections.size(1)):\n",
    "        j = 0\n",
    "        while detections[0, i, j, 0] >= 0.3: # Score >= 0.3\n",
    "            pt = (detections[0, i, j, 1:] * scale).numpy()\n",
    "            cv2.rectangle(frame, (int(pt[0]), int(pt[1])), (int(pt[2]), int(pt[3])),\n",
    "                         (153, 0, 0), 2)\n",
    "            cv2.putText(frame, labelmap[i - 1], (int(pt[0]), int(pt[1])), \n",
    "                        cv2.FONT_HERSHEY_SIMPLEX, 2, (255, 255, 255), 2, cv2.LINE_AA)\n",
    "            j = j + 1\n",
    "    return frame            "
   ]
  },
  {
   "cell_type": "markdown",
   "id": "34b2c5b3",
   "metadata": {},
   "source": [
    "## SSD Neural Network\n",
    "\n",
    "Download pretrained SSD weights (ssd300_mAP_77.43_v2.pth) from [this link](https://s3.amazonaws.com/amdegroot-models/ssd300_mAP_77.43_v2.pth)."
   ]
  },
  {
   "cell_type": "code",
   "execution_count": 3,
   "id": "cf20b768",
   "metadata": {},
   "outputs": [],
   "source": [
    "net = build_ssd('test')\n",
    "net.load_state_dict(torch.load('ssd300_mAP_77.43_v2.pth', \n",
    "                               map_location = lambda storage, \n",
    "                               loc: storage))\n",
    "transform = BaseTransform(net.size, (104/256.0, 117/256.0, 123/256.0))"
   ]
  },
  {
   "cell_type": "markdown",
   "id": "ad8c35cf",
   "metadata": {},
   "source": [
    "## Objection Detection on a Video"
   ]
  },
  {
   "cell_type": "code",
   "execution_count": 4,
   "id": "26938b18",
   "metadata": {},
   "outputs": [
    {
     "name": "stderr",
     "output_type": "stream",
     "text": [
      "C:\\Users\\ersoy\\anaconda3\\lib\\site-packages\\torch\\nn\\functional.py:780: UserWarning: Note that order of the arguments: ceil_mode and return_indices will changeto match the args list in nn.MaxPool2d in a future release.\n",
      "  warnings.warn(\"Note that order of the arguments: ceil_mode and return_indices will change\"\n"
     ]
    }
   ],
   "source": [
    "reader = imageio.get_reader('video.mp4')\n",
    "fps = reader.get_meta_data()['fps']\n",
    "writer = imageio.get_writer('output.mp4', fps = fps, macro_block_size = 1)\n",
    "for i, frame in enumerate(reader):\n",
    "    frame = detect(frame, net.eval(), transform)\n",
    "    writer.append_data(frame)\n",
    "writer.close()"
   ]
  }
 ],
 "metadata": {
  "kernelspec": {
   "display_name": "Python 3",
   "language": "python",
   "name": "python3"
  },
  "language_info": {
   "codemirror_mode": {
    "name": "ipython",
    "version": 3
   },
   "file_extension": ".py",
   "mimetype": "text/x-python",
   "name": "python",
   "nbconvert_exporter": "python",
   "pygments_lexer": "ipython3",
   "version": "3.9.12"
  }
 },
 "nbformat": 4,
 "nbformat_minor": 5
}
