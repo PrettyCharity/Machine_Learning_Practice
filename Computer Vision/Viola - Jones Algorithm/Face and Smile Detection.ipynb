{
 "cells": [
  {
   "cell_type": "markdown",
   "id": "4cbae3ab",
   "metadata": {},
   "source": [
    "## Face and Smile Recognition"
   ]
  },
  {
   "cell_type": "markdown",
   "id": "d670f986",
   "metadata": {},
   "source": [
    "### Importing the libraries"
   ]
  },
  {
   "cell_type": "code",
   "execution_count": 13,
   "id": "ccadc042",
   "metadata": {},
   "outputs": [],
   "source": [
    "# !pip install opencv-python\n",
    "import cv2"
   ]
  },
  {
   "cell_type": "markdown",
   "id": "3fd25b3a",
   "metadata": {},
   "source": [
    "### Loading the cascades"
   ]
  },
  {
   "cell_type": "code",
   "execution_count": 14,
   "id": "dffd5fb1",
   "metadata": {},
   "outputs": [],
   "source": [
    "# https://github.com/opencv/opencv/tree/master/data/haarcascades\n",
    "face_cascade = cv2.CascadeClassifier('haarcascade_frontalface_default.xml')\n",
    "smile_cascade = cv2.CascadeClassifier('haarcascade_smile.xml')"
   ]
  },
  {
   "cell_type": "markdown",
   "id": "b92ace6d",
   "metadata": {},
   "source": [
    "### Detection function"
   ]
  },
  {
   "cell_type": "code",
   "execution_count": 15,
   "id": "b6b36d05",
   "metadata": {},
   "outputs": [],
   "source": [
    "def detect(gray, frame):\n",
    "    faces = face_cascade.detectMultiScale(gray, 1.3, 5)\n",
    "    for (x, y, w, h) in faces:\n",
    "        cv2.rectangle(frame, (x, y), (x+w, y+h), (0, 0, 0), 2)\n",
    "        roi_gray = gray[y:y+h, x:x+w]\n",
    "        roi_color = frame[y:y+h, x:x+w]\n",
    "        smile = smile_cascade.detectMultiScale(roi_gray, 1.7, 22)\n",
    "        \n",
    "        for (ex, ey, ew, eh) in smile:\n",
    "            cv2.rectangle(roi_color, (ex, ey), (ex + ew, ey + eh), (128, 0, 0), 2)\n",
    "    \n",
    "    return frame"
   ]
  },
  {
   "cell_type": "markdown",
   "id": "03e69897",
   "metadata": {},
   "source": [
    "### Recognition with the webcam"
   ]
  },
  {
   "cell_type": "code",
   "execution_count": 16,
   "id": "4002c66e",
   "metadata": {},
   "outputs": [],
   "source": [
    "video_capture = cv2.VideoCapture(0) # 0 = internal , 1 = external webcam\n",
    "\n",
    "while True:\n",
    "    _, frame = video_capture.read()\n",
    "    gray = cv2.cvtColor(frame, cv2.COLOR_BGR2GRAY)\n",
    "    canvas = detect(gray, frame)\n",
    "    cv2.imshow('Face and Smile Detection', canvas)\n",
    "    if cv2.waitKey(1) & 0xFF == ord('q'): # Press q to stop\n",
    "        break\n",
    "\n",
    "video_capture.release()\n",
    "cv2.destroyAllWindows()"
   ]
  }
 ],
 "metadata": {
  "kernelspec": {
   "display_name": "Python 3",
   "language": "python",
   "name": "python3"
  },
  "language_info": {
   "codemirror_mode": {
    "name": "ipython",
    "version": 3
   },
   "file_extension": ".py",
   "mimetype": "text/x-python",
   "name": "python",
   "nbconvert_exporter": "python",
   "pygments_lexer": "ipython3",
   "version": "3.9.12"
  }
 },
 "nbformat": 4,
 "nbformat_minor": 5
}
