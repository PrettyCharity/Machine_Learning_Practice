{
 "cells": [
  {
   "cell_type": "markdown",
   "id": "ba859fdf",
   "metadata": {},
   "source": [
    "# Importing the libraries"
   ]
  },
  {
   "cell_type": "code",
   "execution_count": 1,
   "id": "90e3c48d",
   "metadata": {},
   "outputs": [],
   "source": [
    "import pandas as pd \n",
    "import numpy as np\n",
    "import plotly.graph_objects as go\n",
    "import plotly.io as pio\n",
    "# Comment to make plotly graphs interactive\n",
    "pio.renderers.default = \"svg\" # to make graphs visible on github\n",
    "import datetime as dt\n",
    "\n",
    "from sklearn.preprocessing import MinMaxScaler\n",
    "import torch\n",
    "import torch.nn as nn\n",
    "if torch.cuda.is_available():\n",
    "    torch.set_default_tensor_type('torch.cuda.FloatTensor') # To use GPU on pytorch\n",
    "    device = 'cuda'\n",
    "else:\n",
    "    device = 'cpu'"
   ]
  },
  {
   "cell_type": "markdown",
   "id": "cfbc0304",
   "metadata": {},
   "source": [
    "# Stock processing"
   ]
  },
  {
   "cell_type": "code",
   "execution_count": 2,
   "id": "eafa1394",
   "metadata": {},
   "outputs": [],
   "source": [
    "class Stock(object):\n",
    "    def __init__(self, ticker: str, timesteps: int, \n",
    "                 date_from = dt.datetime(year = 1994, month = 1, day = 1),\n",
    "                 date_to = dt.datetime.today()):\n",
    "        \n",
    "        self.ticker = ticker.upper()\n",
    "        self.timesteps = timesteps # as days\n",
    "        self.date_from = date_from\n",
    "        self.date_to = date_to\n",
    "        self.mms = MinMaxScaler(feature_range = (0, 1))\n",
    "            \n",
    "    def get_data(self):\n",
    "        \"\"\"\n",
    "        Takes the ticker (a string) from Yahoo Finance,\n",
    "        Adjusts interval to daily, \n",
    "        Returns a pandas dataframe with ticker's stock data. \n",
    "        \"\"\"\n",
    "        interval = \"1d\"\n",
    "        period1 = int(self.date_from.timestamp())\n",
    "        period2 = int(self.date_to.timestamp())\n",
    "        url = (\n",
    "                f\"https://query1.finance.yahoo.com/v7/finance/download/\"\n",
    "                f\"{self.ticker}?period1={period1}&period2={period2}&interval={interval}&events=history\"\n",
    "              )\n",
    "        dataset = pd.read_csv(url).dropna()\n",
    "        return dataset\n",
    "    \n",
    "    def __split_data(self):\n",
    "        \n",
    "        self.df = self.get_data()\n",
    "        self.train_data = self.df.iloc[:int(self.df.shape[0]*0.7), :] # %70 of the data\n",
    "        self.test_data = self.df.iloc[int(self.df.shape[0]*0.7):, :] # 30 of the data\n",
    "    \n",
    "    def __batch_train_data(self):\n",
    "        \n",
    "        # Take training_set with Open data and scale for RNN\n",
    "        training_set = self.train_data.iloc[:, 1:2].values # 2D array\n",
    "        training_set_scaled = self.mms.fit_transform(training_set)\n",
    "        # Create a data with 'timesteps' and 1 output\n",
    "        t, N = self.timesteps, training_set.shape[0]\n",
    "        X_train, y_train = [], []\n",
    "        for i in range(t, N):\n",
    "            X_train.append(training_set_scaled[i-t:i, 0])\n",
    "            y_train.append(training_set_scaled[i, 0])\n",
    "        self.y_train = np.array(y_train).reshape((len(y_train), 1)) #2D Array\n",
    "        # Reshape X_train for RNN (batch_size, timesteps, input_dim)\n",
    "        X_train = np.array(X_train)\n",
    "        self.X_train = np.reshape(X_train, (X_train.shape[0], X_train.shape[1], 1))\n",
    "    \n",
    "    def __batch_test_data(self):\n",
    "        \n",
    "        # Get all 'Open' data from the dataset\n",
    "        open_data = self.df.iloc[:, 1]\n",
    "        # Create the inputs to take test_data + 'timesteps' days before\n",
    "        inputs = open_data[len(open_data) - len(self.test_data) - self.timesteps:].values\n",
    "        inputs = inputs.reshape(-1, 1)\n",
    "        # Scale the inputs for prediction\n",
    "        inputs = self.mms.transform(inputs)\n",
    "        # Creating a test data with 'timesteps'\n",
    "        t, N = self.timesteps, inputs.shape[0]\n",
    "        X_test = []\n",
    "        for i in range(t, N):\n",
    "            X_test.append(inputs[i-t:i, 0])\n",
    "        X_test = np.array(X_test)\n",
    "        # Reshape X_test for RNN\n",
    "        self.X_test = np.reshape(X_test, (X_test.shape[0], X_test.shape[1], 1))\n",
    "        self.y_test = self.test_data.iloc[:, 1].values.reshape(len(X_test), 1) #2D array\n",
    "        \n",
    "    def __tensorize(self):\n",
    "        self.X_train = torch.from_numpy(self.X_train).to(device = device, dtype = torch.float)\n",
    "        self.X_test = torch.from_numpy(self.X_test).to(device = device, dtype = torch.float)\n",
    "        self.y_train = torch.from_numpy(self.y_train).to(device = device, dtype = torch.float)\n",
    "        self.y_test = torch.from_numpy(self.y_test).to(device = device, dtype = torch.float)\n",
    "    \n",
    "    def process(self):\n",
    "        \n",
    "        # Get the data\n",
    "        self.__split_data()\n",
    "        self.__batch_train_data()\n",
    "        self.__batch_test_data()\n",
    "        self.__tensorize()\n",
    "        return self.X_train, self.X_test, self.y_train, self.y_test\n",
    "    \n",
    "    def visualize(self, y_pred, stock_name = ''):\n",
    "        \n",
    "        fig = go.Figure()\n",
    "        fig.add_trace(go.Scatter(x = self.df['Date'], y = self.df['Open'],\n",
    "                        mode = 'lines',\n",
    "                        name = 'Real Stock Price'))\n",
    "\n",
    "        fig.add_trace(go.Scatter(x = self.test_data['Date'], y = y_pred, #1D Array\n",
    "                        mode = 'lines',\n",
    "                        name = 'Predicted Stock Price'))\n",
    "        \n",
    "        fig.update_layout(template = \"simple_white\", title = stock_name  + ' Stock Price Prediction', \n",
    "                  xaxis_title='Time',\n",
    "                  yaxis_title='Stock Price ($)')\n",
    "        \n",
    "        fig.show()"
   ]
  },
  {
   "cell_type": "markdown",
   "id": "f07e94ea",
   "metadata": {},
   "source": [
    "# LSTM Algorithm "
   ]
  },
  {
   "cell_type": "code",
   "execution_count": 3,
   "id": "3e35c849",
   "metadata": {},
   "outputs": [],
   "source": [
    "class LSTM(nn.Module):\n",
    "    def __init__(self, input_dim = 1, \n",
    "                       hidden_dim = 32, \n",
    "                       num_layers = 2, \n",
    "                       output_dim = 1):\n",
    "        \n",
    "        super(LSTM, self).__init__()\n",
    "        self.hidden_dim = hidden_dim\n",
    "        self.num_layers = num_layers\n",
    "        \n",
    "        self.lstm = nn.LSTM(input_dim, hidden_dim, num_layers, batch_first=True)\n",
    "        self.fc = nn.Linear(hidden_dim, output_dim)\n",
    "\n",
    "    def forward(self, x):\n",
    "        h0 = torch.zeros(self.num_layers, x.size(0), self.hidden_dim).requires_grad_()\n",
    "        c0 = torch.zeros(self.num_layers, x.size(0), self.hidden_dim).requires_grad_()\n",
    "        out, (hn, cn) = self.lstm(x, (h0.detach(), c0.detach()))\n",
    "        out = self.fc(out[:, -1, :]) \n",
    "        return out\n",
    "\n",
    "model = LSTM()\n",
    "criterion = torch.nn.MSELoss(reduction='mean')\n",
    "optimiser = torch.optim.Adam(model.parameters(), lr=0.01)"
   ]
  },
  {
   "cell_type": "markdown",
   "id": "1ec812e9",
   "metadata": {},
   "source": [
    "# Training the model"
   ]
  },
  {
   "cell_type": "code",
   "execution_count": 4,
   "id": "11b19082",
   "metadata": {},
   "outputs": [],
   "source": [
    "data = Stock('TWTR', timesteps = 60)\n",
    "X_train, X_test, y_train, y_test =  data.process()"
   ]
  },
  {
   "cell_type": "code",
   "execution_count": 5,
   "id": "f7e6ba1f",
   "metadata": {
    "scrolled": true
   },
   "outputs": [],
   "source": [
    "num_epochs = 100\n",
    "hist = np.zeros(num_epochs)\n",
    "\n",
    "for t in range(num_epochs):\n",
    "    y_train_pred = model(X_train)\n",
    "\n",
    "    loss = criterion(y_train_pred, y_train)\n",
    "    hist[t] = loss.item()\n",
    "\n",
    "    optimiser.zero_grad()\n",
    "    loss.backward()\n",
    "    optimiser.step()"
   ]
  },
  {
   "cell_type": "markdown",
   "id": "2ebb5dfa",
   "metadata": {},
   "source": [
    "# Predictions and results"
   ]
  },
  {
   "cell_type": "code",
   "execution_count": 6,
   "id": "b0d96943",
   "metadata": {},
   "outputs": [
    {
     "data": {
      "image/svg+xml": [
       "<svg class=\"main-svg\" xmlns=\"http://www.w3.org/2000/svg\" xmlns:xlink=\"http://www.w3.org/1999/xlink\" width=\"700\" height=\"500\" style=\"\" viewBox=\"0 0 700 500\"><rect x=\"0\" y=\"0\" width=\"700\" height=\"500\" style=\"fill: rgb(255, 255, 255); fill-opacity: 1;\"/><defs id=\"defs-6c16be\"><g class=\"clips\"><clipPath id=\"clip6c16bexyplot\" class=\"plotclip\"><rect width=\"427\" height=\"320\"/></clipPath><clipPath class=\"axesclip\" id=\"clip6c16bex\"><rect x=\"80\" y=\"0\" width=\"427\" height=\"500\"/></clipPath><clipPath class=\"axesclip\" id=\"clip6c16bey\"><rect x=\"0\" y=\"100\" width=\"700\" height=\"320\"/></clipPath><clipPath class=\"axesclip\" id=\"clip6c16bexy\"><rect x=\"80\" y=\"100\" width=\"427\" height=\"320\"/></clipPath></g><g class=\"gradients\"/><g class=\"patterns\"/></defs><g class=\"bglayer\"/><g class=\"layer-below\"><g class=\"imagelayer\"/><g class=\"shapelayer\"/></g><g class=\"cartesianlayer\"><g class=\"subplot xy\"><g class=\"layer-subplot\"><g class=\"shapelayer\"/><g class=\"imagelayer\"/></g><g class=\"gridlayer\"><g class=\"x\"/><g class=\"y\"/></g><g class=\"zerolinelayer\"/><path class=\"xlines-below\"/><path class=\"ylines-below\"/><g class=\"overlines-below\"/><g class=\"xaxislayer-below\"/><g class=\"yaxislayer-below\"/><g class=\"overaxes-below\"/><g class=\"plot\" transform=\"translate(80,100)\" clip-path=\"url(#clip6c16bexyplot)\"><g class=\"scatterlayer mlayer\"><g class=\"trace scatter tracee38605\" style=\"stroke-miterlimit: 2; opacity: 1;\"><g class=\"fills\"/><g class=\"errorbars\"/><g class=\"lines\"><path class=\"js-line\" d=\"M0,164.72L0.14,161.01L0.55,185.29L1.1,164.05L1.51,171.87L1.92,181.93L2.06,179.43L2.47,182.69L2.61,191.28L3.02,181.26L3.44,179.52L3.57,184.44L3.85,172.1L3.99,161.81L4.4,162.53L4.54,147.73L5.36,107.66L5.5,111.64L5.64,111.51L5.77,120.09L5.91,104.76L6.32,98.76L6.74,40.5L6.87,52.93L7.29,96.89L7.84,57.85L8.39,63.8L8.52,103.86L8.8,109.27L9.21,98.18L9.35,103.1L9.49,102.07L9.62,91.61L9.76,82L10.45,84.19L10.59,91.61L10.72,88.39L11.14,90.18L11.27,109.54L12.37,66.08L12.51,140.08L14.3,104.94L14.43,116.78L14.57,111.06L15.12,116.47L15.26,120.45L15.4,114.46L15.53,116.29L15.95,125.41L16.5,119.65L16.91,124.52L17.18,123.8L17.32,120.9L18.42,141.73L18.83,139.72L19.25,164.76L19.38,157.79L19.8,153.76L21.31,183.99L21.72,181.26L21.86,181.8L22,163.29L22.13,166.68L22.68,165.34L22.82,159.66L22.96,161.23L23.1,157.52L23.23,168.34L23.92,197.98L24.2,191.1L24.61,194.14L25.02,225.62L25.57,218.46L25.71,215.06L26.95,226.29L27.08,225.48L27.63,228.03L27.91,211.35L28.05,215.56L28.46,219.31L28.59,224.5L29.01,213.72L29.42,217.75L30.52,196.33L30.66,195.75L31.48,190.03L31.62,195.39L32.58,174.87L32.72,178.85L33.41,187.7L33.54,197.27L33.68,203.22L33.82,195.79L34.23,193.92L34.37,193.83L34.51,195.08L34.64,201.83L35.19,199.91L35.33,195.08L35.47,198.03L35.61,193.29L35.74,195.57L36.16,195.12L36.29,195.97L36.43,156.18L37.26,172.99L37.39,172.36L37.53,172.45L37.67,174.02L38.08,171.96L38.22,167.94L38.36,169.1L38.49,167.85L38.63,163.06L39.32,165.48L39.59,164.99L40.01,159.71L40.14,160.25L40.28,150.68L40.42,151.84L40.56,143.3L41.11,142.72L41.24,134.63L41.38,144.19L41.93,134.76L42.07,132.84L42.21,133.37L42.34,131.41L42.48,131.41L42.89,135.65L43.03,148.62L43.85,132.17L43.99,136.28L44.27,130.69L44.4,134L44.82,137.93L45.23,138.2L45.78,125.19L45.92,128.86L46.19,119.15L46.33,122.37L46.74,140.39L47.02,155.73L47.29,144.06L47.7,146.97L47.84,134.94L48.25,142.09L48.67,142.72L49.08,180.55L49.22,175.49L49.63,185.06L49.77,187.39L49.9,179.96L50.18,184.21L50.59,186L50.73,190.61L50.87,187.79L51,171.65L51.14,187.43L51.83,185.96L51.97,189.8L52.1,186.4L52.65,186.98L52.79,188.28L53.48,181.75L53.62,190.2L54.44,196.11L54.58,210.01L55.4,195.88L55.54,203.17L55.68,207.37L55.95,202.28L56.37,198.7L56.5,193.87L56.92,197.54L57.33,199.19L57.6,205.9L57.88,204.38L58.29,204.24L59.25,186.27L59.39,188.68L59.8,200.13L60.35,198.3L60.49,198.03L61.31,189.49L61.45,194.54L61.73,202.5L62.14,197.81L62.28,196.46L63.51,151.84L63.65,152.06L64.2,150.86L64.34,151.75L64.48,152.47L65.03,147.19L65.3,148.17L65.44,148.13L65.58,146.43L65.99,150.59L66.95,155.24L67.09,155.19L67.23,162.21L67.5,156.49L68.05,157.74L68.19,157.34L68.33,156.4L68.46,150.14L68.88,150.68L69.01,148.75L69.15,136.1L69.84,140.8L69.98,144.51L70.11,138.34L70.25,139.95L70.8,142.67L71.08,127.96L71.35,132.57L71.76,133.91L72.72,138.02L72.86,135.3L73.14,134.45L73.69,139.05L73.82,133.15L74.65,193.24L74.79,196.46L75.06,199.86L75.2,196.37L75.75,199.64L75.89,197.98L76.02,196.78L76.16,199.33L76.57,200.49L76.71,200.31L76.85,198.74L77.67,202.41L77.81,203.17L78.09,200.71L78.5,202.32L78.64,203.39L78.77,203.13L78.91,200.18L79.87,205.76L80.01,201.38L80.56,213.32L80.97,210.01L81.39,205.63L82.35,212.25L82.49,212.11L82.62,205.18L83.31,209.12L83.45,208.31L83.59,208.04L83.86,211.31L84.27,209.92L84.41,206.39L84.55,202.46L84.82,203.35L85.24,206.52L85.78,203.57L86.2,209.39L86.47,220.65L86.61,227.32L86.75,226.06L87.16,228.43L87.3,236.21L87.43,234.87L87.57,239.39L87.71,242.07L88.12,240.78L88.26,236.66L88.53,234.02L88.67,238.94L89.08,235.86L89.22,237.11L89.36,240.91L90.05,260.81L90.32,255.49L90.46,252.62L91.42,241.04L91.56,241.4L92.11,240.51L92.38,245.34L92.93,244.71L93.07,245.47L93.35,243.23L93.48,245.47L93.9,241.27L94.17,245.78L94.31,247.84L94.45,246.36L94.86,254.77L95.27,248.02L95.41,256.83L96.37,228.21L96.78,230.89L96.92,234.25L97.2,234.65L97.33,231.88L97.75,227.09L97.88,228.03L98.02,234.47L98.16,235.63L98.3,232.37L98.71,229.42L98.85,227.67L98.98,240.6L99.12,229.64L99.67,238.76L99.81,236.3L100.08,234.6L100.22,238.58L100.63,240.86L101.59,253.12L101.73,252.18L101.87,253.83L102.14,248.69L102.56,249.63L102.69,253.83L103.11,250.21L103.52,251.1L104.07,250.97L104.62,258.88L104.76,254.68L105.03,250.52L105.72,259.24L105.86,256.96L106.54,266.84L106.68,264.97L106.82,264.88L107.37,263.98L107.51,265.19L107.78,267.25L108.33,265.14L108.47,264.47L108.61,269.7L109.84,284.86L110.39,285.09L110.53,294.12L110.81,284.59L111.22,291.26L111.36,289.38L111.77,291.97L112.18,286.38L113.56,303.46L113.69,301.36L115.07,283.12L115.2,283.39L115.34,285.89L115.62,287.14L116.03,286.07L116.3,286.56L116.58,279.41L116.99,280.93L117.13,280.97L118.23,293.36L118.37,291.93L118.5,290L119.05,291.48L119.19,290.99L120.02,296.22L120.15,294.12L120.43,293L120.84,294.83L120.98,287.72L121.39,289.83L121.8,291.52L121.94,292.6L122.08,291.79L122.22,288.66L122.77,287.19L122.9,288.71L123.04,290.63L123.18,288.22L123.73,289.47L123.87,289.42L124.28,300.65L124.69,300.51L124.83,302.79L124.97,304L125.1,299.62L125.24,303.24L125.65,302.52L125.79,303.02L125.93,301.05L126.07,300.96L126.2,303.51L126.75,302.84L126.89,302.21L127.03,303.11L127.58,301.99L127.72,302.79L127.85,303.46L128.81,298.32L128.95,299.13L129.09,298.81L129.64,297.7L129.78,298.99L130.05,301.76L130.46,300.96L130.6,300.11L131.56,292.69L131.7,293.63L132.39,293.54L132.53,293.76L132.66,292.15L133.9,287.99L134.31,287.72L135.28,284.59L135.41,283.61L135.69,283.34L135.83,285.35L136.38,283.57L136.51,293.31L136.65,295.33L136.79,293.09L137.2,291.93L137.48,293.31L137.61,287.81L138.71,278.24L139.13,277.62L139.26,273.46L139.68,281.6L140.09,281.64L140.5,284.42L141.05,284.15L141.19,283.25L141.33,284.15L141.46,279.77L142.29,276.72L142.42,282.27L143.25,286.2L143.39,284.55L143.94,280.44L144.07,284.55L144.21,283.92L144.35,283.57L144.49,270.24L144.9,268.94L145.04,262.6L145.31,263.89L146.14,257.63L146.27,274.89L146.82,288.17L147.37,286.43L147.79,291.44L148.89,286.7L149.02,287.77L149.16,289.07L149.85,286.61L149.99,288.44L150.81,284.91L150.95,286.07L151.09,281.24L151.22,284.33L151.77,280.75L151.91,281.51L152.87,283.88L153.15,284.68L153.56,285.89L153.84,285L153.97,282.22L154.52,286.07L154.8,284.73L154.94,279.18L155.07,278.92L155.49,279.27L155.62,281.55L155.76,279.63L156.04,282.49L156.45,283.21L157,293.31L157.55,292.51L157.68,292.02L158.51,293.45L158.65,292.6L159.47,288.08L159.61,288.31L159.75,289.78L159.88,288.66L160.43,290.05L160.57,290.32L160.71,289.96L160.85,291.17L161.26,292.29L161.81,290.76L162.22,292.29L162.5,286.61L163.18,287.23L163.32,285.89L163.46,282.45L163.6,282.67L163.73,295.01L164.15,296.49L164.28,295.19L164.42,291.03L164.7,293.22L165.25,291.97L166.35,295.41L166.48,295.86L166.62,295.55L167.03,295.95L167.17,296.98L168,298.86L168.13,298.41L168.27,298.19L168.41,298.95L168.55,298.41L168.96,298.81L169.1,298.95L169.23,301.54L169.51,299.04L170.06,299.31L170.2,299.93L170.33,299.08L170.88,299.44L171.02,300.42L171.98,302.44L172.12,302.26L172.26,301.59L172.81,302.44L173.08,301.81L173.22,301.18L173.91,300.6L174.04,295.28L174.18,295.73L174.32,292.6L175.69,282.85L175.83,284.5L176.66,282.81L176.79,279.72L177.07,285.13L177.62,284.33L177.76,284.06L178.17,285.94L178.72,284.95L179.13,283.52L179.54,284.59L180.92,292.46L181.06,291.48L181.47,291.39L182.43,283.43L182.71,284.91L182.84,286.2L182.98,287.41L183.67,287.32L183.81,287.46L185.32,277.84L185.45,278.02L185.87,275.38L186.28,275.7L186.42,277.04L186.55,276.95L186.69,288.75L187.65,294.52L187.79,293.94L188.2,293.13L188.34,293.36L188.48,294.65L188.75,296.31L189.17,294.16L189.44,294.97L189.58,294.16L189.72,295.5L190.27,294.21L190.4,292.78L190.54,290.05L191.09,292.11L191.23,292.11L191.5,290.41L191.64,290.5L192.19,291.17L192.33,291.93L192.6,289.51L193.02,288.26L193.57,284.77L193.98,285.85L194.53,288.17L194.94,287.68L195.35,290.94L195.49,290.85L195.9,291.26L196.45,285.76L196.87,286.7L197,286.92L197.14,288.26L197.42,283.88L197.83,283.25L199.07,289.47L199.2,280.44L199.75,270.69L200.03,273.64L200.16,274.71L201.13,279.63L201.26,277.89L202.78,271.58L202.91,268.45L203.19,266.22L203.6,266.4L203.74,268.68L203.88,268.81L204.01,272.43L204.7,275.61L204.84,274.62L204.98,272.21L205.11,271.81L205.53,272.03L205.66,269.03L205.94,268.94L206.08,265.28L206.49,262.51L206.63,256.34L206.76,252.62L207.04,254.46L207.59,257.9L208,257.86L208.55,258.75L208.69,256.56L209.38,257.41L209.51,256.25L209.65,259.06L209.93,254.86L210.48,252L211.71,265.77L211.85,266.26L212.81,247.62L213.23,252.94L213.36,256.42L213.5,250.88L213.64,213.68L213.77,230.58L214.32,229.24L214.46,219.49L214.6,214.22L214.74,217.17L215.29,219.36L215.56,216.9L215.7,222.4L216.11,220.16L216.25,223.69L216.39,225.53L216.52,223.52L216.66,223.61L217.07,219.27L217.49,208L217.62,208.98L218.04,207.51L218.17,208.09L218.31,213.01L218.45,203.57L219,209.3L219.14,210.24L219.55,226.6L219.96,224.68L220.1,223.96L220.24,242.16L220.92,239.52L221.06,239.57L221.2,246.32L221.34,238.9L221.47,239.93L221.89,240.73L222.3,232.73L222.44,235.63L222.85,237.38L223.4,220.39L223.81,221.01L223.95,226.96L224.09,226.2L224.22,230.67L224.36,231.47L224.77,238.41L225.32,231.25L225.74,227.5L226.01,222.98L226.15,220.12L226.84,218.06L226.97,219.94L227.11,219.8L227.25,220.83L227.8,215.33L227.93,220.16L228.9,213.46L229.03,212.61L231.1,157.92L231.51,163.64L231.65,164.31L231.92,159.08L232.06,162.57L232.47,163.06L232.75,162.93L233.43,173.84L233.57,163.55L233.85,169.32L233.98,165.57L234.4,157.38L234.67,175.76L234.95,163.91L235.36,168.29L235.77,172.9L235.91,171.87L236.32,172.1L236.46,170.66L236.6,177.01L236.73,174.69L236.87,199.82L237.7,225.17L237.83,220.7L238.25,224.1L238.38,218.37L238.8,224.86L239.21,223.11L239.35,217.03L239.76,219.98L240.17,219.76L240.31,219.94L240.45,216.81L241.27,205.5L241.68,207.33L242.23,211L242.37,211.44L242.51,219.45L242.64,230.85L243.33,229.51L243.47,231.79L243.61,230.22L244.02,236.48L244.16,237.42L244.29,236.04L244.43,233.58L244.57,232.86L244.98,239.7L245.53,235.59L245.94,238.9L246.08,240.55L246.36,237.82L246.49,239.66L246.91,240.24L247.18,236.17L247.32,248.56L248.14,232.46L248.28,234.92L248.42,235.23L248.97,239.03L249.11,237.38L249.24,226.33L249.38,226.87L249.79,221.24L249.93,224.32L250.07,212.69L250.21,211.67L250.34,210.46L250.76,213.19L250.89,214.53L251.17,210.41L251.31,215.47L251.72,214.35L251.86,222.22L252.27,219.58L252.68,216.32L252.82,232.37L253.23,226.42L253.64,225.08L253.92,218.82L254.19,227.09L254.61,222.22L254.74,217.57L255.16,219.54L255.57,220.03L255.98,203.62L256.53,206.84L256.67,216L256.8,215.65L256.94,220.65L257.49,247.66L257.77,245.65L257.9,240.55L258.04,237.02L258.45,238.49L258.73,240.01L259,239.43L259.42,231.34L259.83,218.46L259.97,219.49L260.38,221.59L260.65,218.37L260.79,221.19L260.93,218.6L261.48,218.95L261.62,222.13L261.75,228.03L262.3,220.39L262.44,217.35L262.58,223.11L262.85,216.32L263.27,217.3L263.54,209.65L263.68,227L263.82,230.13L264.23,231.47L264.37,230.27L264.5,229.69L265.47,224.59L265.6,226.15L265.74,228.61L266.15,223.34L266.43,227.99L266.57,231.12L266.7,227L267.39,228.03L267.53,228.84L267.67,233.84L268.22,227.09L268.35,226.38L268.63,227.58L269.04,226.65L269.18,227.09L269.32,226.69L269.45,221.91L270.14,218.91L270.28,219.13L270.42,222L271.38,211.22L271.51,211.89L271.93,210.82L272.06,210.59L272.2,208.72L272.89,212.65L273.03,210.59L273.16,211.09L273.85,212.56L273.99,201.25L274.13,188.15L274.81,193.65L274.95,188.46L275.23,190.92L275.36,185.37L275.78,188.91L275.91,187.97L276.05,194.45L276.33,193.42L277.01,202.41L277.15,195.97L277.7,200.4L277.98,199.1L278.11,195.79L279.08,200.94L279.21,202.63L279.63,203.39L279.76,209.07L280.59,194.9L280.73,196.06L280.86,200.35L281,200.76L281.14,203.8L281.55,204.24L281.69,202.23L281.96,203.84L282.1,207.64L283.06,211L283.48,207.64L283.75,204.11L284.03,205.41L284.44,205.23L285.54,192.98L285.67,197.09L285.95,196.64L286.36,201.29L286.5,197.05L286.64,196.46L286.77,191.99L287.74,176.16L287.87,179.38L288.29,180.46L288.56,185.24L288.7,178.09L288.84,179.56L289.25,182.6L289.8,186.18L290.21,182.6L290.62,174.78L290.76,179.38L291.17,181.26L291.72,175.45L292.27,176.88L292.41,176.39L292.55,170.62L293.1,162.48L293.24,170.08L293.37,171.65L293.51,170.71L293.65,173.44L294.06,176.79L295.16,170.93L295.3,180.77L295.57,176.34L295.99,180.99L296.12,181.62L296.4,189.35L296.95,186.45L297.09,185.69L297.36,190.47L297.5,188.01L297.91,186.09L298.05,189.49L298.46,188.91L298.87,190.43L299.01,185.37L299.15,192.04L299.28,223.92L300.25,234.6L300.38,232.41L300.8,233.26L300.93,231.39L301.21,236.71L301.76,236.12L301.9,235.1L302.03,236.53L302.31,236.48L302.72,235.63L303.13,235.81L303.96,227.76L304.23,227.27L304.65,228.17L304.78,232.5L305.2,230.67L305.61,231.7L305.75,231.21L305.88,232.46L306.02,230.13L306.16,231.16L306.57,229.91L307.67,221.32L307.95,220.65L308.08,219.94L308.5,221.1L308.63,223.92L308.91,221.91L309.05,224.59L309.46,226.73L309.87,216.45L310.42,218.95L310.56,220.21L311.66,213.05L311.8,214.39L311.93,213.86L312.35,221.91L312.9,218.33L313.31,220.79L313.86,198.12L314.41,204.87L314.54,204.56L315.51,196.06L315.64,193.07L315.78,193.47L316.19,203.17L316.47,208.63L316.61,215.56L316.74,223.92L317.16,205.41L317.29,205.32L317.57,209.74L317.71,215.2L318.26,214.8L318.67,237.47L319.08,249.58L319.49,267.51L319.63,254.73L320.04,259.96L320.46,249.45L320.59,252.09L321.01,253.47L321.14,251.06L321.28,260.4L321.42,263.53L322.38,239.03L322.93,243.19L323.07,241.18L323.34,246.27L323.48,244.93L323.89,248.73L324.03,248.38L324.17,245.65L324.99,230.45L325.13,231.97L325.27,237.65L325.82,242.97L326.09,239.61L326.23,240.82L326.92,232.91L327.06,235.63L327.19,241.94L328.98,216L329.12,225.53L329.25,225.26L329.67,227.5L330.9,204.87L331.04,218.24L331.59,219.22L331.73,209.25L331.87,212.16L332,213.01L332.14,211.49L332.55,216.27L332.69,215.47L332.83,220.92L333.52,238.9L333.79,231.56L333.93,226.42L334.62,223.47L334.75,217.93L334.89,205.94L335.44,206.66L335.58,216.45L336.54,197.4L336.68,201.07L336.95,195.21L337.37,198.34L337.5,203.39L337.92,199.46L338.33,203.57L338.47,205.76L338.74,201.61L338.88,199.06L339.29,194.85L339.57,198.7L339.7,199.01L341.63,183.18L341.76,185.29L342.18,183.09L342.31,184.79L342.45,180.72L342.59,175.27L343.28,194.14L343.55,188.46L343.69,190.92L344.38,190.25L344.51,192.66L345.2,185.87L345.34,170.17L345.48,166.55L345.61,173.17L346.16,168.07L346.3,166.86L348.09,150.5L348.23,154.03L348.36,164.9L349.05,162.71L349.19,147.41L349.46,141.91L350.01,145.04L350.15,144.6L350.29,134.09L350.43,167.27L350.84,182.38L350.98,187.39L351.25,171.83L351.39,171.83L351.8,169.81L351.94,172.5L352.08,174.24L352.76,171.87L352.9,176.97L354.28,158.19L354.69,158.37L354.96,159.08L355.79,152.69L355.92,154.08L356.06,157.56L356.2,140.04L357.16,120.76L357.57,122.69L357.85,118.93L357.99,122.6L358.54,120.45L358.95,123.85L359.5,122.73L361.01,160.25L361.56,162.53L362.94,138.25L363.35,137.44L365.55,39.74L365.82,40.1L366.24,45.65L366.37,60.31L366.65,16.94L366.79,22.66L367.2,16L367.34,23.82L367.47,35.45L368.3,72.52L368.44,55.8L368.57,69.61L369.12,61.25L369.26,48.6L370.22,75.07L370.36,75.96L370.5,97.2L371.18,87.81L371.32,80.3L372.28,68.4L372.42,53.78L373.25,42.16L373.38,50.92L373.52,44.57L373.93,55.08L374.07,62.28L374.48,72.52L374.9,69.08L375.03,66.17L375.17,73.28L375.31,66.75L375.45,115.98L376.13,120.67L376.27,127.25L376.41,121.48L376.82,129.35L376.96,144.95L377.78,132.84L377.92,131.18L378.06,133.02L378.2,128.37L378.33,120.45L378.75,120.9L378.88,109.94L379.02,109.85L379.16,108.65L379.85,106.14L379.98,110.26L380.12,111.69L380.26,109.67L380.67,104.26L381.63,94.29L381.77,93.22L382.05,99.84L382.18,97.2L382.6,94.29L383.83,58.93L383.97,59.77L384.66,56.29L384.79,50.56L384.93,66.79L385.48,55.8L385.62,55.44L385.76,51.5L386.03,59.82L386.44,74.66L386.99,43.54L387.41,47.79L387.54,60.89L387.68,60.58L387.82,55.62L388.37,52.35L388.51,53.96L388.64,59.28L388.92,56.51L389.33,64.56L389.61,72.2L389.74,76.59L389.88,75.78L390.29,78.69L390.71,90.98L390.84,88.57L391.26,83.79L391.39,76.45L391.81,85.93L392.22,81.55L392.63,71.4L392.77,78.29L393.32,77.03L393.46,76.01L393.59,87.54L393.73,84.9L394.14,92.28L394.28,97.78L394.69,88.7L395.11,92.95L395.38,88.93L395.52,76.68L396.07,68.54L396.21,78.6L396.34,84.95L397.17,101.63L397.31,102.79L397.58,79.09L398.13,90.58L398.27,89.33L399.23,69.66L399.37,72.74L399.5,81.06L400.19,97.87L400.33,120.09L400.88,126.89L401.15,126.35L401.29,122.33L402.39,132.52L402.8,132.03L402.94,130.02L403.08,133.73L403.22,139.9L404.04,157.74L404.32,157.83L404.73,134.4L404.87,162.88L405,165.57L405.69,178.09L405.83,164.85L405.97,166.95L406.1,155.28L407.62,176.92L407.75,173.08L408.58,168.7L408.72,168.7L408.99,175.14L409.13,168.12L409.54,171.87L409.68,174.78L410.5,190.52L410.64,188.46L410.78,183.59L411.05,194.54L411.6,197.72L411.88,197.18L412.43,215.69L412.98,215.29L413.39,207.96L413.66,195.17L413.8,215.06L413.94,206.93L414.35,202.19L414.49,207.55L414.9,199.06L415.31,207.11L415.45,204.38L415.86,207.69L416.41,215.87L416.69,226.42L416.83,209.34L417.24,210.1L417.38,207.6L417.51,206.44L417.65,210.33L417.79,215.47L418.2,216.54L418.34,222.08L418.75,214.17L419.16,220.21L419.58,208.94L419.71,198.88L420.4,196.46L420.54,194.99L421.36,185.96L421.5,191.5L421.64,191.28L422.05,152.33L422.19,125.59L422.6,154.88L423.01,161.81L423.29,166.06L423.43,150.1L423.98,159.62L424.39,162.88L425.08,135.79L425.21,147.01L425.35,147.23L425.49,145.27L425.9,148.62L426.18,148.17L426.31,140.44L427,152.15\" style=\"vector-effect: non-scaling-stroke; fill: none; stroke: rgb(31, 119, 180); stroke-opacity: 1; stroke-width: 2px; opacity: 1;\"/></g><g class=\"points\"/><g class=\"text\"/></g><g class=\"trace scatter trace53d7b6\" style=\"stroke-miterlimit: 2; opacity: 1;\"><g class=\"fills\"/><g class=\"errorbars\"/><g class=\"lines\"><path class=\"js-line\" d=\"M299.01,188.1L299.15,187.63L299.28,188.34L299.42,195.51L301.35,233.31L301.76,234.33L302.86,236.62L303,236.28L303.82,234.92L303.96,233.81L304.78,230.28L305.2,231.3L305.61,231.42L306.57,231.81L306.71,231.54L308.63,222.21L309.05,222.42L309.46,222.91L309.73,224.27L310.01,222.5L310.42,221.53L312.35,214.93L312.48,216.17L313.44,218.64L313.58,218.25L313.72,217.42L314.82,204.72L315.37,203.73L316.19,197.41L316.47,199.31L316.61,201.47L317.29,210.02L317.57,208.57L317.71,208.56L318.12,209.83L318.26,212.99L319.08,224.54L319.22,230.9L320.18,256.81L320.32,256.68L320.46,255.79L321.28,253.53L321.42,254.9L322.11,258.97L322.24,257.82L322.38,255.62L323.89,246.18L324.03,246.81L324.17,247.49L324.31,247.55L324.44,246.22L324.99,243.2L325.13,240.37L325.41,237.41L325.82,238.05L325.96,239.32L326.37,240.35L326.78,239.87L326.92,238.74L327.19,236.84L327.33,237.76L327.74,238.58L328.15,235.71L328.29,232.92L328.98,226.52L329.12,223.49L329.25,223.03L329.67,223.34L329.8,224.29L330.08,223.64L330.22,221.26L330.77,215.54L330.9,212.59L331.04,210.17L331.59,211.91L331.73,213.61L332.55,212.58L332.69,213.22L333.1,217.84L333.52,220.42L334.48,229.81L334.62,229.09L337.5,199.7L337.78,200.2L337.92,200.58L338.33,200.41L338.47,200.94L338.6,201.98L338.74,202.4L338.88,202.33L339.29,201.62L340.25,198.32L340.39,197.85L341.63,189.39L341.76,187.56L342.59,183.91L342.73,181.86L343.28,181.33L343.41,183.64L344.51,189.59L344.65,190.22L345.2,190.28L345.34,189.31L346.58,169.37L346.99,167.67L348.36,156.6L348.5,158.2L349.19,160.56L349.33,158.41L350.43,145.71L350.84,149.83L351.8,172.1L351.94,171.9L352.08,172.02L353.31,173.93L353.73,173.28L355.24,160.16L355.65,158.6L356.89,146.02L357.02,141.03L357.99,128.93L358.54,128.55L358.95,128.1L359.5,128.46L359.77,129.58L359.91,130.58L362.39,157.28L362.52,156.12L363.49,146.01L363.62,142.95L366.37,78.36L366.51,79.86L366.65,78.15L367.47,66.16L367.61,67.24L367.75,70.48L369.26,86.34L369.4,84.25L370.08,85.16L370.22,86.38L371.32,101.48L371.46,100.81L372.01,99.51L372.42,95.77L372.56,91.68L373.93,78.31L374.07,79.14L374.21,81.05L375.31,90.14L375.45,90.04L377.92,138.36L378.06,137.88L378.33,136.64L378.75,134.23L380.12,118.87L380.26,119.04L380.67,118.96L382.05,109.44L382.18,109.82L382.6,109.78L383.01,105.22L383.15,100.88L384.93,83.44L385.07,84.67L385.48,85.84L385.62,85.13L385.76,84.35L386.03,82.31L386.44,82.84L386.58,85.71L386.86,87.79L386.99,87.1L387.41,83.93L387.54,81.94L387.96,83.08L388.37,82.68L388.64,81.79L388.92,82.93L389.33,83L391.39,100.82L391.53,99.54L391.67,98.98L392.22,99.26L393.59,95.61L393.73,97.32L394.28,100.48L394.42,103.09L394.69,105.6L395.24,105.53L395.38,105.52L395.66,102.61L396.07,99.5L396.34,96.15L396.62,100.09L397.03,102.33L397.44,108.44L397.58,107.58L397.99,104.93L398.95,102.08L399.09,101.86L399.5,95.84L400.05,98.36L400.19,99.5L402.25,130.66L402.39,132L403.35,137.31L403.77,140.24L405.28,160.46L405.69,164.54L405.97,168.75L406.24,166.11L406.65,164.04L406.79,163.35L406.93,164.45L407.07,165.79L407.89,171.85L408.03,171.71L408.58,171.32L408.85,170.22L409.13,171.74L409.54,171.29L409.82,172.06L409.95,174.59L411.05,185.79L411.6,187.53L413.53,210.5L413.66,207.92L413.8,204.67L414.49,205.49L414.63,205.69L415.31,203.25L415.73,204.13L415.86,204.45L416.41,205.15L416.55,207.43L417.24,214.28L417.38,213.62L417.51,212.26L417.79,210.17L418.2,211.03L418.34,212.33L419.3,216.68L419.44,217.24L420.4,204.31L420.54,201.85L421.64,191.38L422.05,191.01L423.01,153.69L423.29,155.73L423.43,158.17L423.98,157.36L424.25,157.66L424.39,158.13L424.53,159.36L424.94,158.55L425.08,154.7L425.9,148.45L426.04,148.81L426.31,149.18L426.45,147.99L427,147.28\" style=\"vector-effect: non-scaling-stroke; fill: none; stroke: rgb(255, 127, 14); stroke-opacity: 1; stroke-width: 2px; opacity: 1;\"/></g><g class=\"points\"/><g class=\"text\"/></g></g></g><g class=\"overplot\"/><path class=\"xlines-above crisp\" d=\"M79,420.5H507\" style=\"fill: none; stroke-width: 1px; stroke: rgb(36, 36, 36); stroke-opacity: 1;\"/><path class=\"ylines-above crisp\" d=\"M79.5,100V420\" style=\"fill: none; stroke-width: 1px; stroke: rgb(36, 36, 36); stroke-opacity: 1;\"/><g class=\"overlines-above\"/><g class=\"xaxislayer-above\"><path class=\"xtick ticks crisp\" d=\"M0,421v5\" transform=\"translate(87.56,0)\" style=\"stroke: rgb(68, 68, 68); stroke-opacity: 1; stroke-width: 1px;\"/><path class=\"xtick ticks crisp\" d=\"M0,421v5\" transform=\"translate(187.92000000000002,0)\" style=\"stroke: rgb(68, 68, 68); stroke-opacity: 1; stroke-width: 1px;\"/><path class=\"xtick ticks crisp\" d=\"M0,421v5\" transform=\"translate(288.40999999999997,0)\" style=\"stroke: rgb(68, 68, 68); stroke-opacity: 1; stroke-width: 1px;\"/><path class=\"xtick ticks crisp\" d=\"M0,421v5\" transform=\"translate(388.77,0)\" style=\"stroke: rgb(68, 68, 68); stroke-opacity: 1; stroke-width: 1px;\"/><path class=\"xtick ticks crisp\" d=\"M0,421v5\" transform=\"translate(489.27,0)\" style=\"stroke: rgb(68, 68, 68); stroke-opacity: 1; stroke-width: 1px;\"/><g class=\"xtick\"><text text-anchor=\"middle\" x=\"0\" y=\"440.4\" transform=\"translate(87.56,0)\" style=\"font-family: 'Open Sans', verdana, arial, sans-serif; font-size: 12px; fill: rgb(36, 36, 36); fill-opacity: 1; white-space: pre; opacity: 1;\">2014</text></g><g class=\"xtick\"><text text-anchor=\"middle\" x=\"0\" y=\"440.4\" style=\"font-family: 'Open Sans', verdana, arial, sans-serif; font-size: 12px; fill: rgb(36, 36, 36); fill-opacity: 1; white-space: pre; opacity: 1;\" transform=\"translate(187.92000000000002,0)\">2016</text></g><g class=\"xtick\"><text text-anchor=\"middle\" x=\"0\" y=\"440.4\" style=\"font-family: 'Open Sans', verdana, arial, sans-serif; font-size: 12px; fill: rgb(36, 36, 36); fill-opacity: 1; white-space: pre; opacity: 1;\" transform=\"translate(288.40999999999997,0)\">2018</text></g><g class=\"xtick\"><text text-anchor=\"middle\" x=\"0\" y=\"440.4\" style=\"font-family: 'Open Sans', verdana, arial, sans-serif; font-size: 12px; fill: rgb(36, 36, 36); fill-opacity: 1; white-space: pre; opacity: 1;\" transform=\"translate(388.77,0)\">2020</text></g><g class=\"xtick\"><text text-anchor=\"middle\" x=\"0\" y=\"440.4\" style=\"font-family: 'Open Sans', verdana, arial, sans-serif; font-size: 12px; fill: rgb(36, 36, 36); fill-opacity: 1; white-space: pre; opacity: 1;\" transform=\"translate(489.27,0)\">2022</text></g></g><g class=\"yaxislayer-above\"><path class=\"ytick ticks crisp\" d=\"M79,0h-5\" transform=\"translate(0,376.95)\" style=\"stroke: rgb(68, 68, 68); stroke-opacity: 1; stroke-width: 1px;\"/><path class=\"ytick ticks crisp\" d=\"M79,0h-5\" transform=\"translate(0,332.23)\" style=\"stroke: rgb(68, 68, 68); stroke-opacity: 1; stroke-width: 1px;\"/><path class=\"ytick ticks crisp\" d=\"M79,0h-5\" transform=\"translate(0,287.52)\" style=\"stroke: rgb(68, 68, 68); stroke-opacity: 1; stroke-width: 1px;\"/><path class=\"ytick ticks crisp\" d=\"M79,0h-5\" transform=\"translate(0,242.81)\" style=\"stroke: rgb(68, 68, 68); stroke-opacity: 1; stroke-width: 1px;\"/><path class=\"ytick ticks crisp\" d=\"M79,0h-5\" transform=\"translate(0,198.09)\" style=\"stroke: rgb(68, 68, 68); stroke-opacity: 1; stroke-width: 1px;\"/><path class=\"ytick ticks crisp\" d=\"M79,0h-5\" transform=\"translate(0,153.38)\" style=\"stroke: rgb(68, 68, 68); stroke-opacity: 1; stroke-width: 1px;\"/><path class=\"ytick ticks crisp\" d=\"M79,0h-5\" transform=\"translate(0,108.67)\" style=\"stroke: rgb(68, 68, 68); stroke-opacity: 1; stroke-width: 1px;\"/><g class=\"ytick\"><text text-anchor=\"end\" x=\"71.6\" y=\"4.199999999999999\" transform=\"translate(0,376.95)\" style=\"font-family: 'Open Sans', verdana, arial, sans-serif; font-size: 12px; fill: rgb(36, 36, 36); fill-opacity: 1; white-space: pre; opacity: 1;\">20</text></g><g class=\"ytick\"><text text-anchor=\"end\" x=\"71.6\" y=\"4.199999999999999\" style=\"font-family: 'Open Sans', verdana, arial, sans-serif; font-size: 12px; fill: rgb(36, 36, 36); fill-opacity: 1; white-space: pre; opacity: 1;\" transform=\"translate(0,332.23)\">30</text></g><g class=\"ytick\"><text text-anchor=\"end\" x=\"71.6\" y=\"4.199999999999999\" style=\"font-family: 'Open Sans', verdana, arial, sans-serif; font-size: 12px; fill: rgb(36, 36, 36); fill-opacity: 1; white-space: pre; opacity: 1;\" transform=\"translate(0,287.52)\">40</text></g><g class=\"ytick\"><text text-anchor=\"end\" x=\"71.6\" y=\"4.199999999999999\" style=\"font-family: 'Open Sans', verdana, arial, sans-serif; font-size: 12px; fill: rgb(36, 36, 36); fill-opacity: 1; white-space: pre; opacity: 1;\" transform=\"translate(0,242.81)\">50</text></g><g class=\"ytick\"><text text-anchor=\"end\" x=\"71.6\" y=\"4.199999999999999\" style=\"font-family: 'Open Sans', verdana, arial, sans-serif; font-size: 12px; fill: rgb(36, 36, 36); fill-opacity: 1; white-space: pre; opacity: 1;\" transform=\"translate(0,198.09)\">60</text></g><g class=\"ytick\"><text text-anchor=\"end\" x=\"71.6\" y=\"4.199999999999999\" style=\"font-family: 'Open Sans', verdana, arial, sans-serif; font-size: 12px; fill: rgb(36, 36, 36); fill-opacity: 1; white-space: pre; opacity: 1;\" transform=\"translate(0,153.38)\">70</text></g><g class=\"ytick\"><text text-anchor=\"end\" x=\"71.6\" y=\"4.199999999999999\" style=\"font-family: 'Open Sans', verdana, arial, sans-serif; font-size: 12px; fill: rgb(36, 36, 36); fill-opacity: 1; white-space: pre; opacity: 1;\" transform=\"translate(0,108.67)\">80</text></g></g><g class=\"overaxes-above\"/></g></g><g class=\"polarlayer\"/><g class=\"smithlayer\"/><g class=\"ternarylayer\"/><g class=\"geolayer\"/><g class=\"funnelarealayer\"/><g class=\"pielayer\"/><g class=\"iciclelayer\"/><g class=\"treemaplayer\"/><g class=\"sunburstlayer\"/><g class=\"glimages\"/><defs id=\"topdefs-6c16be\"><g class=\"clips\"/><clipPath id=\"legend6c16be\"><rect width=\"172\" height=\"48\" x=\"0\" y=\"0\"/></clipPath></defs><g class=\"layer-above\"><g class=\"imagelayer\"/><g class=\"shapelayer\"/></g><g class=\"infolayer\"><g class=\"legend\" pointer-events=\"all\" transform=\"translate(515.54,100)\"><rect class=\"bg\" shape-rendering=\"crispEdges\" style=\"stroke: rgb(68, 68, 68); stroke-opacity: 1; fill: rgb(255, 255, 255); fill-opacity: 1; stroke-width: 0px;\" width=\"172\" height=\"48\" x=\"0\" y=\"0\"/><g class=\"scrollbox\" transform=\"\" clip-path=\"url(#legend6c16be)\"><g class=\"groups\"><g class=\"traces\" transform=\"translate(0,14.5)\" style=\"opacity: 1;\"><text class=\"legendtext\" text-anchor=\"start\" x=\"40\" y=\"4.680000000000001\" style=\"font-family: 'Open Sans', verdana, arial, sans-serif; font-size: 12px; fill: rgb(36, 36, 36); fill-opacity: 1; white-space: pre;\">Real Stock Price</text><g class=\"layers\" style=\"opacity: 1;\"><g class=\"legendfill\"/><g class=\"legendlines\"><path class=\"js-line\" d=\"M5,0h30\" style=\"fill: none; stroke: rgb(31, 119, 180); stroke-opacity: 1; stroke-width: 2px;\"/></g><g class=\"legendsymbols\"><g class=\"legendpoints\"/></g></g><rect class=\"legendtoggle\" x=\"0\" y=\"-9.5\" width=\"166.9375\" height=\"19\" style=\"fill: rgb(0, 0, 0); fill-opacity: 0;\"/></g><g class=\"traces\" transform=\"translate(0,33.5)\" style=\"opacity: 1;\"><text class=\"legendtext\" text-anchor=\"start\" x=\"40\" y=\"4.680000000000001\" style=\"font-family: 'Open Sans', verdana, arial, sans-serif; font-size: 12px; fill: rgb(36, 36, 36); fill-opacity: 1; white-space: pre;\">Predicted Stock Price</text><g class=\"layers\" style=\"opacity: 1;\"><g class=\"legendfill\"/><g class=\"legendlines\"><path class=\"js-line\" d=\"M5,0h30\" style=\"fill: none; stroke: rgb(255, 127, 14); stroke-opacity: 1; stroke-width: 2px;\"/></g><g class=\"legendsymbols\"><g class=\"legendpoints\"/></g></g><rect class=\"legendtoggle\" x=\"0\" y=\"-9.5\" width=\"166.9375\" height=\"19\" style=\"fill: rgb(0, 0, 0); fill-opacity: 0;\"/></g></g></g><rect class=\"scrollbar\" rx=\"20\" ry=\"3\" width=\"0\" height=\"0\" style=\"fill: rgb(128, 139, 164); fill-opacity: 1;\" x=\"0\" y=\"0\"/></g><g class=\"g-gtitle\"><text class=\"gtitle\" x=\"35\" y=\"50\" text-anchor=\"start\" dy=\"0em\" style=\"font-family: 'Open Sans', verdana, arial, sans-serif; font-size: 17px; fill: rgb(36, 36, 36); opacity: 1; font-weight: normal; white-space: pre;\">Twitter Stock Price Prediction</text></g><g class=\"g-xtitle\"><text class=\"xtitle\" x=\"293.5\" y=\"468.20625\" text-anchor=\"middle\" style=\"font-family: 'Open Sans', verdana, arial, sans-serif; font-size: 14px; fill: rgb(36, 36, 36); opacity: 1; font-weight: normal; white-space: pre;\">Time</text></g><g class=\"g-ytitle\"><text class=\"ytitle\" transform=\"rotate(-90,31.528125000000003,260)\" x=\"31.528125000000003\" y=\"260\" text-anchor=\"middle\" style=\"font-family: 'Open Sans', verdana, arial, sans-serif; font-size: 14px; fill: rgb(36, 36, 36); opacity: 1; font-weight: normal; white-space: pre;\">Stock Price ($)</text></g></g></svg>"
      ]
     },
     "metadata": {},
     "output_type": "display_data"
    }
   ],
   "source": [
    "y_test_pred = model(X_test)\n",
    "y_pred = data.mms.inverse_transform(y_test_pred.to(device = 'cpu').detach().numpy())\n",
    "data.visualize(y_pred.ravel(), stock_name = 'Twitter')"
   ]
  }
 ],
 "metadata": {
  "kernelspec": {
   "display_name": "Python 3",
   "language": "python",
   "name": "python3"
  },
  "language_info": {
   "codemirror_mode": {
    "name": "ipython",
    "version": 3
   },
   "file_extension": ".py",
   "mimetype": "text/x-python",
   "name": "python",
   "nbconvert_exporter": "python",
   "pygments_lexer": "ipython3",
   "version": "3.9.12"
  }
 },
 "nbformat": 4,
 "nbformat_minor": 5
}
